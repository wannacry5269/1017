{
  "nbformat": 4,
  "nbformat_minor": 0,
  "metadata": {
    "colab": {
      "provenance": []
    },
    "kernelspec": {
      "name": "python3",
      "display_name": "Python 3"
    },
    "language_info": {
      "name": "python"
    }
  },
  "cells": [
    {
      "cell_type": "code",
      "execution_count": 28,
      "metadata": {
        "colab": {
          "base_uri": "https://localhost:8080/"
        },
        "id": "u5Xk7UIQBAkz",
        "outputId": "7c5e06a3-8a79-4eb3-dc60-d5e6b686f80a"
      },
      "outputs": [
        {
          "output_type": "stream",
          "name": "stdout",
          "text": [
            "         *\n",
            "        ***\n",
            "       *****\n",
            "      *******\n",
            "     *********\n",
            "    ***********\n",
            "   *************\n",
            "  ***************\n",
            " *****************\n",
            "        ***\n",
            "        ***\n",
            "        ***\n",
            "        ***\n",
            "        ***\n",
            "\n"
          ]
        }
      ],
      "source": [
        "for a in range(19):\n",
        "  if a%2==1:\n",
        "    b=int((19-a)/2)\n",
        "    for c in range(b):\n",
        "      print(\" \",end=\"\")\n",
        "    for d in range(a):\n",
        "      print(\"*\",end=\"\")\n",
        "    print(\"\")\n",
        "for e in range(5):\n",
        "  for f in range(8):\n",
        "    print(\" \",end=\"\")\n",
        "  for g in range(3):\n",
        "    print(\"*\",end=\"\")\n",
        "  print(\"\")\n",
        "print(\"\")"
      ]
    },
    {
      "cell_type": "code",
      "source": [
        "import random\n",
        "answer=random.sample(range(1,10),4)\n",
        "print(answer)\n",
        "a=0\n",
        "b=0\n",
        "num=0\n",
        "while a!=4:\n",
        "  num+=1\n",
        "  a=0\n",
        "  b=0\n",
        "  n=0\n",
        "  user=input('輸入四個數字(不重複)')\n",
        "  while len(user)!=4 or len(set(user))!=4:\n",
        "    user=input('輸入四個數字(不重複)')\n",
        "  for i in user:\n",
        "    if int(user[n]) == answer[n]:\n",
        "      a += 1\n",
        "    else:\n",
        "      if int(i) in answer:\n",
        "        b += 1\n",
        "    n += 1\n",
        "  output=','.join(user).replace(',','')\n",
        "  print(f'{output}:{a}A{b}B')\n",
        "print(f'答對了!總共猜了{num}次')"
      ],
      "metadata": {
        "colab": {
          "base_uri": "https://localhost:8080/"
        },
        "id": "tN_1hivDNJjS",
        "outputId": "5152258f-45f4-4fed-c7c5-1a63b359a34f"
      },
      "execution_count": 1,
      "outputs": [
        {
          "output_type": "stream",
          "name": "stdout",
          "text": [
            "[2, 1, 7, 3]\n",
            "輸入四個數字(不重複)2456\n",
            "2456:1A0B\n",
            "輸入四個數字(不重複)2137\n",
            "2137:2A2B\n",
            "輸入四個數字(不重複)2173\n",
            "2173:4A0B\n",
            "答對了!總共猜了3次\n"
          ]
        }
      ]
    }
  ]
}